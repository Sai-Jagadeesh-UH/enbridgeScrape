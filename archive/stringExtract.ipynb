{
 "cells": [
  {
   "cell_type": "code",
   "execution_count": 2,
   "id": "d1500f0d",
   "metadata": {},
   "outputs": [
    {
     "data": {
      "text/plain": [
       "['Algonquin',\n",
       " 'Bobcat Gas Storage',\n",
       " 'BIG Pipeline',\n",
       " 'Big Sandy Pipeline',\n",
       " 'MHP Egan',\n",
       " 'East Tennessee',\n",
       " 'Garden Banks',\n",
       " 'Generation  Pipeline',\n",
       " 'Mississippi Canyon',\n",
       " 'MHP Moss Bluff',\n",
       " 'Maritimes & Northeast Canada',\n",
       " 'Maritimes & Northeast U.S.',\n",
       " 'Manta Ray Offshore Gathering Company',\n",
       " 'Nautilus Pipeline Company',\n",
       " 'NEXUS ULC',\n",
       " 'NEXUS U.S.',\n",
       " 'Southeast Supply Header',\n",
       " 'Saltville',\n",
       " 'Steckman Ridge',\n",
       " 'Sabal Trail',\n",
       " 'Texas Eastern',\n",
       " 'Tres Palacios Gas Storage LLC',\n",
       " 'Valley Crossing Pipeline',\n",
       " 'Westcoast Energy',\n",
       " 'Walker Ridge Gathering System']"
      ]
     },
     "execution_count": 2,
     "metadata": {},
     "output_type": "execute_result"
    }
   ],
   "source": [
    "pipeNameList = 'Algonquin|Bobcat Gas Storage|BIG Pipeline|Big Sandy Pipeline|MHP Egan|East Tennessee|Garden Banks|Generation  Pipeline|Mississippi Canyon|MHP Moss Bluff|Maritimes & Northeast Canada|Maritimes & Northeast U.S.|Manta Ray Offshore Gathering Company|Nautilus Pipeline Company|NEXUS ULC|NEXUS U.S.|Southeast Supply Header|Saltville|Steckman Ridge|Sabal Trail|Texas Eastern|Tres Palacios Gas Storage LLC|Valley Crossing Pipeline|Westcoast Energy|Walker Ridge Gathering System |'\n",
    "pipeNameList=[i.strip() for i in pipeNameList.split('|')[:-1]]\n",
    "pipeNameList.__len__()\n",
    "pipeNameList"
   ]
  },
  {
   "cell_type": "code",
   "execution_count": 3,
   "id": "0afacceb",
   "metadata": {},
   "outputs": [
    {
     "data": {
      "text/plain": [
       "['AG',\n",
       " 'BGS',\n",
       " 'BIG',\n",
       " 'BSP',\n",
       " 'EG',\n",
       " 'ET',\n",
       " 'GB',\n",
       " 'GPL',\n",
       " 'MCGP',\n",
       " 'MB',\n",
       " 'MNCA',\n",
       " 'MNUS',\n",
       " 'MR',\n",
       " 'NPC',\n",
       " 'NXCA',\n",
       " 'NXUS',\n",
       " 'SESH',\n",
       " 'SG',\n",
       " 'SR',\n",
       " 'STT',\n",
       " 'TE',\n",
       " 'TPGS',\n",
       " 'VCP',\n",
       " 'WE',\n",
       " 'WRGS']"
      ]
     },
     "execution_count": 3,
     "metadata": {},
     "output_type": "execute_result"
    }
   ],
   "source": [
    "pipeLegalCode = 'AG|BGS|BIG|BSP|EG|ET|GB|GPL|MCGP|MB|MNCA|MNUS|MR|NPC|NXCA|NXUS|SESH|SG|SR|STT|TE|TPGS|VCP|WE|WRGS|'\n",
    "pipeLegalCode=[i.strip() for i in pipeLegalCode.split('|')[:-1]]\n",
    "pipeLegalCode.__len__()\n",
    "pipeLegalCode"
   ]
  },
  {
   "cell_type": "code",
   "execution_count": 4,
   "id": "331a5cff",
   "metadata": {},
   "outputs": [
    {
     "name": "stdout",
     "output_type": "stream",
     "text": [
      "'Algonquin' : 'AG'\n",
      "'Bobcat Gas Storage' : 'BGS'\n",
      "'BIG Pipeline' : 'BIG'\n",
      "'Big Sandy Pipeline' : 'BSP'\n",
      "'MHP Egan' : 'EG'\n",
      "'East Tennessee' : 'ET'\n",
      "'Garden Banks' : 'GB'\n",
      "'Generation  Pipeline' : 'GPL'\n",
      "'Mississippi Canyon' : 'MCGP'\n",
      "'MHP Moss Bluff' : 'MB'\n",
      "'Maritimes & Northeast Canada' : 'MNCA'\n",
      "'Maritimes & Northeast U.S.' : 'MNUS'\n",
      "'Manta Ray Offshore Gathering Company' : 'MR'\n",
      "'Nautilus Pipeline Company' : 'NPC'\n",
      "'NEXUS ULC' : 'NXCA'\n",
      "'NEXUS U.S.' : 'NXUS'\n",
      "'Southeast Supply Header' : 'SESH'\n",
      "'Saltville' : 'SG'\n",
      "'Steckman Ridge' : 'SR'\n",
      "'Sabal Trail' : 'STT'\n",
      "'Texas Eastern' : 'TE'\n",
      "'Tres Palacios Gas Storage LLC' : 'TPGS'\n",
      "'Valley Crossing Pipeline' : 'VCP'\n",
      "'Westcoast Energy' : 'WE'\n",
      "'Walker Ridge Gathering System' : 'WRGS'\n"
     ]
    }
   ],
   "source": [
    "for i in range(len(pipeLegalCode)):\n",
    "    print(f\"'{pipeNameList[i]}' : '{pipeLegalCode[i]}'\")"
   ]
  },
  {
   "cell_type": "code",
   "execution_count": 5,
   "id": "d6dee954",
   "metadata": {},
   "outputs": [
    {
     "name": "stdout",
     "output_type": "stream",
     "text": [
      "https://infopost.enbridge.com/InfoPost/AGHome.asp?pipe=AG\n",
      "https://infopost.enbridge.com/InfoPost/BGSHome.asp?pipe=BGS\n",
      "https://infopost.enbridge.com/InfoPost/BIGHome.asp?pipe=BIG\n",
      "https://infopost.enbridge.com/InfoPost/BSPHome.asp?pipe=BSP\n",
      "https://infopost.enbridge.com/InfoPost/EGHome.asp?pipe=EG\n",
      "https://infopost.enbridge.com/InfoPost/ETHome.asp?pipe=ET\n",
      "https://infopost.enbridge.com/InfoPost/GBHome.asp?pipe=GB\n",
      "https://infopost.enbridge.com/InfoPost/GPLHome.asp?pipe=GPL\n",
      "https://infopost.enbridge.com/InfoPost/MCGPHome.asp?pipe=MCGP\n",
      "https://infopost.enbridge.com/InfoPost/MBHome.asp?pipe=MB\n",
      "https://infopost.enbridge.com/InfoPost/MNCAHome.asp?pipe=MNCA\n",
      "https://infopost.enbridge.com/InfoPost/MNUSHome.asp?pipe=MNUS\n",
      "https://infopost.enbridge.com/InfoPost/MRHome.asp?pipe=MR\n",
      "https://infopost.enbridge.com/InfoPost/NPCHome.asp?pipe=NPC\n",
      "https://infopost.enbridge.com/InfoPost/NXCAHome.asp?pipe=NXCA\n",
      "https://infopost.enbridge.com/InfoPost/NXUSHome.asp?pipe=NXUS\n",
      "https://infopost.enbridge.com/InfoPost/SESHHome.asp?pipe=SESH\n",
      "https://infopost.enbridge.com/InfoPost/SGHome.asp?pipe=SG\n",
      "https://infopost.enbridge.com/InfoPost/SRHome.asp?pipe=SR\n",
      "https://infopost.enbridge.com/InfoPost/STTHome.asp?pipe=STT\n",
      "https://infopost.enbridge.com/InfoPost/TEHome.asp?pipe=TE\n",
      "https://infopost.enbridge.com/InfoPost/TPGSHome.asp?pipe=TPGS\n",
      "https://infopost.enbridge.com/InfoPost/VCPHome.asp?pipe=VCP\n",
      "https://infopost.enbridge.com/InfoPost/WEHome.asp?pipe=WE\n",
      "https://infopost.enbridge.com/InfoPost/WRGSHome.asp?pipe=WRGS\n"
     ]
    }
   ],
   "source": [
    "for i in pipeLegalCode:\n",
    "    print(rf\"https://infopost.enbridge.com/InfoPost/{i}Home.asp?pipe={i}\")"
   ]
  },
  {
   "cell_type": "code",
   "execution_count": null,
   "id": "de3ab872",
   "metadata": {},
   "outputs": [],
   "source": []
  }
 ],
 "metadata": {
  "kernelspec": {
   "display_name": "enbridgescrape (3.13.0)",
   "language": "python",
   "name": "python3"
  },
  "language_info": {
   "codemirror_mode": {
    "name": "ipython",
    "version": 3
   },
   "file_extension": ".py",
   "mimetype": "text/x-python",
   "name": "python",
   "nbconvert_exporter": "python",
   "pygments_lexer": "ipython3",
   "version": "3.13.0"
  }
 },
 "nbformat": 4,
 "nbformat_minor": 5
}
