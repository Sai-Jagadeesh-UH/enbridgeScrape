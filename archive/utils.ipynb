{
 "cells": [
  {
   "cell_type": "code",
   "execution_count": 1,
   "id": "efa52c45",
   "metadata": {},
   "outputs": [],
   "source": [
    "from configs import pipesMap, pipeConfigs\n"
   ]
  },
  {
   "cell_type": "code",
   "execution_count": 9,
   "id": "fa833fb7",
   "metadata": {},
   "outputs": [
    {
     "data": {
      "text/plain": [
       "{'Algonquin': 'AG',\n",
       " 'Bobcat Gas Storage': 'BGS',\n",
       " 'BIG Pipeline': 'BIG',\n",
       " 'Big Sandy Pipeline': 'BSP',\n",
       " 'MHP Egan': 'EG',\n",
       " 'East Tennessee': 'ET',\n",
       " 'Garden Banks': 'GB',\n",
       " 'Generation  Pipeline': 'GPL',\n",
       " 'Mississippi Canyon': 'MCGP',\n",
       " 'MHP Moss Bluff': 'MB',\n",
       " 'Maritimes & Northeast Canada': 'MNCA',\n",
       " 'Maritimes & Northeast U.S.': 'MNUS',\n",
       " 'Manta Ray Offshore Gathering Company': 'MR',\n",
       " 'Nautilus Pipeline Company': 'NPC',\n",
       " 'NEXUS ULC': 'NXCA',\n",
       " 'NEXUS U.S.': 'NXUS',\n",
       " 'Southeast Supply Header': 'SESH',\n",
       " 'Saltville': 'SG',\n",
       " 'Steckman Ridge': 'SR',\n",
       " 'Sabal Trail': 'STT',\n",
       " 'Texas Eastern': 'TE',\n",
       " 'Tres Palacios Gas Storage LLC': 'TPGS',\n",
       " 'Valley Crossing Pipeline': 'VCP',\n",
       " 'Westcoast Energy': 'WE',\n",
       " 'Walker Ridge Gathering System': 'WRGS'}"
      ]
     },
     "execution_count": 9,
     "metadata": {},
     "output_type": "execute_result"
    }
   ],
   "source": [
    "pipesMap"
   ]
  },
  {
   "cell_type": "code",
   "execution_count": 10,
   "id": "ba8c3e24",
   "metadata": {},
   "outputs": [
    {
     "data": {
      "text/plain": [
       "{'AG': ['OA', 'OC'],\n",
       " 'BGS': ['OA', 'OC', 'SC'],\n",
       " 'BSP': ['OA', 'OC'],\n",
       " 'EG': ['OA', 'OC', 'SC'],\n",
       " 'ET': ['OA', 'OC', 'SC'],\n",
       " 'GB': ['OA', 'OC'],\n",
       " 'GPL': ['OA'],\n",
       " 'MCGP': ['OA', 'OC'],\n",
       " 'MNUS': ['OA', 'OC'],\n",
       " 'NPC': ['OA', 'OC'],\n",
       " 'NXUS': ['OA', 'OC'],\n",
       " 'SESH': ['OA', 'OC'],\n",
       " 'SG': ['OA', 'OC', 'SC'],\n",
       " 'SR': ['OA', 'OC', 'SC'],\n",
       " 'STT': ['OA', 'OC'],\n",
       " 'TE': ['OA', 'OC', 'SC'],\n",
       " 'TPGS': ['OA', 'OC', 'SC'],\n",
       " 'VCP': ['OA']}"
      ]
     },
     "execution_count": 10,
     "metadata": {},
     "output_type": "execute_result"
    }
   ],
   "source": [
    "pipeConfigs"
   ]
  },
  {
   "cell_type": "code",
   "execution_count": 5,
   "id": "ccc9ed76",
   "metadata": {},
   "outputs": [
    {
     "data": {
      "text/plain": [
       "['AG',\n",
       " 'BGS',\n",
       " 'BSP',\n",
       " 'EG',\n",
       " 'ET',\n",
       " 'GB',\n",
       " 'GPL',\n",
       " 'MCGP',\n",
       " 'MNUS',\n",
       " 'NPC',\n",
       " 'NXUS',\n",
       " 'SESH',\n",
       " 'SG',\n",
       " 'SR',\n",
       " 'STT',\n",
       " 'TE',\n",
       " 'TPGS',\n",
       " 'VCP']"
      ]
     },
     "execution_count": 5,
     "metadata": {},
     "output_type": "execute_result"
    }
   ],
   "source": [
    "[i for i in pipeConfigs if 'OA' in pipeConfigs[i]]"
   ]
  },
  {
   "cell_type": "code",
   "execution_count": 4,
   "id": "b112a7c2",
   "metadata": {},
   "outputs": [
    {
     "data": {
      "text/plain": [
       "['AG', 'BSP', 'ET', 'GB', 'MCGP', 'MNUS', 'NPC', 'NXUS', 'SESH', 'STT', 'TE']"
      ]
     },
     "execution_count": 4,
     "metadata": {},
     "output_type": "execute_result"
    }
   ],
   "source": [
    "[i for i in pipeConfigs if 'OC' in pipeConfigs[i]]"
   ]
  },
  {
   "cell_type": "code",
   "execution_count": 2,
   "id": "6cdd6d76",
   "metadata": {},
   "outputs": [
    {
     "data": {
      "text/plain": [
       "['BGS', 'EG', 'ET', 'SG', 'SR', 'TE', 'TPGS']"
      ]
     },
     "execution_count": 2,
     "metadata": {},
     "output_type": "execute_result"
    }
   ],
   "source": [
    "[i for i in pipeConfigs if 'SC' in pipeConfigs[i]]"
   ]
  },
  {
   "cell_type": "code",
   "execution_count": null,
   "id": "909b13ad",
   "metadata": {},
   "outputs": [],
   "source": [
    "BGS- Missing oc\n",
    "EG - oc\n",
    "SG - oc\n",
    "SR - no oc\n",
    "TPGS - no oc\n",
    "\n"
   ]
  },
  {
   "cell_type": "code",
   "execution_count": 3,
   "id": "f128c4f4",
   "metadata": {},
   "outputs": [
    {
     "data": {
      "text/plain": [
       "['OA', 'SC']"
      ]
     },
     "execution_count": 3,
     "metadata": {},
     "output_type": "execute_result"
    }
   ],
   "source": [
    "pipeConfigs['BGS']"
   ]
  },
  {
   "cell_type": "code",
   "execution_count": null,
   "id": "08ae6a65",
   "metadata": {},
   "outputs": [],
   "source": []
  }
 ],
 "metadata": {
  "kernelspec": {
   "display_name": "enbridgescrape",
   "language": "python",
   "name": "python3"
  },
  "language_info": {
   "codemirror_mode": {
    "name": "ipython",
    "version": 3
   },
   "file_extension": ".py",
   "mimetype": "text/x-python",
   "name": "python",
   "nbconvert_exporter": "python",
   "pygments_lexer": "ipython3",
   "version": "3.13.7"
  }
 },
 "nbformat": 4,
 "nbformat_minor": 5
}
