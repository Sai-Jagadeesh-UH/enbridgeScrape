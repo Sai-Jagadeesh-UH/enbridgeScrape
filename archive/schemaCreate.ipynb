{
 "cells": [
  {
   "cell_type": "code",
   "execution_count": 2,
   "id": "6bc52f2d",
   "metadata": {},
   "outputs": [],
   "source": [
    "import polars as pl \n",
    "import pandas as pd\n",
    "import os\n",
    "from pathlib import Path\n",
    "\n",
    "from pydantic import BaseModel, Field\n",
    "from datetime import date, datetime, time\n",
    "import pyarrow"
   ]
  },
  {
   "cell_type": "code",
   "execution_count": 3,
   "id": "295f8d21",
   "metadata": {},
   "outputs": [],
   "source": [
    "rootPath = Path('./../').resolve()\n",
    "basePath = rootPath / 'src/enbridgescrape'\n",
    "configsPath = basePath / 'configs'\n",
    "downloadsPath = rootPath / 'downloads'"
   ]
  },
  {
   "cell_type": "code",
   "execution_count": 4,
   "id": "2a0a080a",
   "metadata": {},
   "outputs": [],
   "source": [
    "df = pl.scan_csv(downloadsPath / 'OA/*.csv')\\\n",
    "        .filter(pl.col('Post_Date').is_not_null())\\\n",
    "        .with_columns(\n",
    "            pl.col(\"Post_Date\").str.to_date(format=\"%m-%d-%Y\").alias(\"Post_Date\"),\n",
    "            pl.col(\"Eff_Gas_Day\").str.to_date(format=\"%m-%d-%Y\").alias(\"Eff_Gas_Day\"),\n",
    "            pl.col(\"Post_Time\").str.to_time(format=\"%H:%M\").alias(\"Post_Time\"),\n",
    "            pl.col(\"Eff_Time\").str.to_time(format=\"%H:%M\").alias(\"Eff_Time\")).collect()\n",
    "\n",
    "df = df.with_columns(\n",
    "            pl.Series(name=\"Total_Design_Capacity\",\n",
    "                    values=map(lambda x: int(x.replace(',','')) if x.find(',')!=-1 else int(x) ,df['Total_Design_Capacity'])),\n",
    "            pl.Series(name=\"Operating_Capacity\",\n",
    "                    values=map(lambda x: int(x.replace(',','')) if x.find(',')!=-1 else int(x) ,df['Operating_Capacity'])),\n",
    "            pl.Series(name=\"Total_Scheduled_Quantity\",\n",
    "                    values=map(lambda x: int(x.replace(',','')) if x.find(',')!=-1 else int(x) ,df['Total_Scheduled_Quantity'])),\n",
    "            pl.Series(name=\"Operationally_Available_Capacity\",\n",
    "                    values=map(lambda x: int(x.replace(',','')) if x.find(',')!=-1 else int(x) ,df['Operationally_Available_Capacity']))        \n",
    "    )"
   ]
  },
  {
   "cell_type": "code",
   "execution_count": null,
   "id": "b58e2cbb",
   "metadata": {},
   "outputs": [],
   "source": []
  }
 ],
 "metadata": {
  "kernelspec": {
   "display_name": "enbridgescrape",
   "language": "python",
   "name": "python3"
  },
  "language_info": {
   "codemirror_mode": {
    "name": "ipython",
    "version": 3
   },
   "file_extension": ".py",
   "mimetype": "text/x-python",
   "name": "python",
   "nbconvert_exporter": "python",
   "pygments_lexer": "ipython3",
   "version": "3.13.7"
  }
 },
 "nbformat": 4,
 "nbformat_minor": 5
}
