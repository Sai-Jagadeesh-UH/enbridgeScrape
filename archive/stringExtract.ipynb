{
 "cells": [
  {
   "cell_type": "code",
   "execution_count": 2,
   "id": "d1500f0d",
   "metadata": {},
   "outputs": [
    {
     "data": {
      "text/plain": [
       "['Algonquin',\n",
       " 'Bobcat Gas Storage',\n",
       " 'BIG Pipeline',\n",
       " 'Big Sandy Pipeline',\n",
       " 'MHP Egan',\n",
       " 'East Tennessee',\n",
       " 'Garden Banks',\n",
       " 'Generation  Pipeline',\n",
       " 'Mississippi Canyon',\n",
       " 'MHP Moss Bluff',\n",
       " 'Maritimes & Northeast Canada',\n",
       " 'Maritimes & Northeast U.S.',\n",
       " 'Manta Ray Offshore Gathering Company',\n",
       " 'Nautilus Pipeline Company',\n",
       " 'NEXUS ULC',\n",
       " 'NEXUS U.S.',\n",
       " 'Southeast Supply Header',\n",
       " 'Saltville',\n",
       " 'Steckman Ridge',\n",
       " 'Sabal Trail',\n",
       " 'Texas Eastern',\n",
       " 'Tres Palacios Gas Storage LLC',\n",
       " 'Valley Crossing Pipeline',\n",
       " 'Westcoast Energy',\n",
       " 'Walker Ridge Gathering System']"
      ]
     },
     "execution_count": 2,
     "metadata": {},
     "output_type": "execute_result"
    }
   ],
   "source": [
    "pipeNameList = \"Algonquin|Bobcat Gas Storage|BIG Pipeline|Big Sandy Pipeline|MHP Egan|East Tennessee|Garden Banks|Generation  Pipeline|Mississippi Canyon|MHP Moss Bluff|Maritimes & Northeast Canada|Maritimes & Northeast U.S.|Manta Ray Offshore Gathering Company|Nautilus Pipeline Company|NEXUS ULC|NEXUS U.S.|Southeast Supply Header|Saltville|Steckman Ridge|Sabal Trail|Texas Eastern|Tres Palacios Gas Storage LLC|Valley Crossing Pipeline|Westcoast Energy|Walker Ridge Gathering System |\"\n",
    "pipeNameList = [i.strip() for i in pipeNameList.split(\"|\")[:-1]]\n",
    "pipeNameList.__len__()\n",
    "pipeNameList"
   ]
  },
  {
   "cell_type": "code",
   "execution_count": 3,
   "id": "0afacceb",
   "metadata": {},
   "outputs": [
    {
     "data": {
      "text/plain": [
       "['AG',\n",
       " 'BGS',\n",
       " 'BIG',\n",
       " 'BSP',\n",
       " 'EG',\n",
       " 'ET',\n",
       " 'GB',\n",
       " 'GPL',\n",
       " 'MCGP',\n",
       " 'MB',\n",
       " 'MNCA',\n",
       " 'MNUS',\n",
       " 'MR',\n",
       " 'NPC',\n",
       " 'NXCA',\n",
       " 'NXUS',\n",
       " 'SESH',\n",
       " 'SG',\n",
       " 'SR',\n",
       " 'STT',\n",
       " 'TE',\n",
       " 'TPGS',\n",
       " 'VCP',\n",
       " 'WE',\n",
       " 'WRGS']"
      ]
     },
     "execution_count": 3,
     "metadata": {},
     "output_type": "execute_result"
    }
   ],
   "source": [
    "pipeLegalCode = \"AG|BGS|BIG|BSP|EG|ET|GB|GPL|MCGP|MB|MNCA|MNUS|MR|NPC|NXCA|NXUS|SESH|SG|SR|STT|TE|TPGS|VCP|WE|WRGS|\"\n",
    "pipeLegalCode = [i.strip() for i in pipeLegalCode.split(\"|\")[:-1]]\n",
    "pipeLegalCode.__len__()\n",
    "pipeLegalCode"
   ]
  },
  {
   "cell_type": "code",
   "execution_count": 4,
   "id": "331a5cff",
   "metadata": {},
   "outputs": [
    {
     "name": "stdout",
     "output_type": "stream",
     "text": [
      "'Algonquin' : 'AG'\n",
      "'Bobcat Gas Storage' : 'BGS'\n",
      "'BIG Pipeline' : 'BIG'\n",
      "'Big Sandy Pipeline' : 'BSP'\n",
      "'MHP Egan' : 'EG'\n",
      "'East Tennessee' : 'ET'\n",
      "'Garden Banks' : 'GB'\n",
      "'Generation  Pipeline' : 'GPL'\n",
      "'Mississippi Canyon' : 'MCGP'\n",
      "'MHP Moss Bluff' : 'MB'\n",
      "'Maritimes & Northeast Canada' : 'MNCA'\n",
      "'Maritimes & Northeast U.S.' : 'MNUS'\n",
      "'Manta Ray Offshore Gathering Company' : 'MR'\n",
      "'Nautilus Pipeline Company' : 'NPC'\n",
      "'NEXUS ULC' : 'NXCA'\n",
      "'NEXUS U.S.' : 'NXUS'\n",
      "'Southeast Supply Header' : 'SESH'\n",
      "'Saltville' : 'SG'\n",
      "'Steckman Ridge' : 'SR'\n",
      "'Sabal Trail' : 'STT'\n",
      "'Texas Eastern' : 'TE'\n",
      "'Tres Palacios Gas Storage LLC' : 'TPGS'\n",
      "'Valley Crossing Pipeline' : 'VCP'\n",
      "'Westcoast Energy' : 'WE'\n",
      "'Walker Ridge Gathering System' : 'WRGS'\n"
     ]
    }
   ],
   "source": [
    "for i in range(len(pipeLegalCode)):\n",
    "    print(f\"'{pipeNameList[i]}' : '{pipeLegalCode[i]}'\")"
   ]
  },
  {
   "cell_type": "code",
   "execution_count": 5,
   "id": "d6dee954",
   "metadata": {},
   "outputs": [
    {
     "name": "stdout",
     "output_type": "stream",
     "text": [
      "https://infopost.enbridge.com/InfoPost/AGHome.asp?pipe=AG\n",
      "https://infopost.enbridge.com/InfoPost/BGSHome.asp?pipe=BGS\n",
      "https://infopost.enbridge.com/InfoPost/BIGHome.asp?pipe=BIG\n",
      "https://infopost.enbridge.com/InfoPost/BSPHome.asp?pipe=BSP\n",
      "https://infopost.enbridge.com/InfoPost/EGHome.asp?pipe=EG\n",
      "https://infopost.enbridge.com/InfoPost/ETHome.asp?pipe=ET\n",
      "https://infopost.enbridge.com/InfoPost/GBHome.asp?pipe=GB\n",
      "https://infopost.enbridge.com/InfoPost/GPLHome.asp?pipe=GPL\n",
      "https://infopost.enbridge.com/InfoPost/MCGPHome.asp?pipe=MCGP\n",
      "https://infopost.enbridge.com/InfoPost/MBHome.asp?pipe=MB\n",
      "https://infopost.enbridge.com/InfoPost/MNCAHome.asp?pipe=MNCA\n",
      "https://infopost.enbridge.com/InfoPost/MNUSHome.asp?pipe=MNUS\n",
      "https://infopost.enbridge.com/InfoPost/MRHome.asp?pipe=MR\n",
      "https://infopost.enbridge.com/InfoPost/NPCHome.asp?pipe=NPC\n",
      "https://infopost.enbridge.com/InfoPost/NXCAHome.asp?pipe=NXCA\n",
      "https://infopost.enbridge.com/InfoPost/NXUSHome.asp?pipe=NXUS\n",
      "https://infopost.enbridge.com/InfoPost/SESHHome.asp?pipe=SESH\n",
      "https://infopost.enbridge.com/InfoPost/SGHome.asp?pipe=SG\n",
      "https://infopost.enbridge.com/InfoPost/SRHome.asp?pipe=SR\n",
      "https://infopost.enbridge.com/InfoPost/STTHome.asp?pipe=STT\n",
      "https://infopost.enbridge.com/InfoPost/TEHome.asp?pipe=TE\n",
      "https://infopost.enbridge.com/InfoPost/TPGSHome.asp?pipe=TPGS\n",
      "https://infopost.enbridge.com/InfoPost/VCPHome.asp?pipe=VCP\n",
      "https://infopost.enbridge.com/InfoPost/WEHome.asp?pipe=WE\n",
      "https://infopost.enbridge.com/InfoPost/WRGSHome.asp?pipe=WRGS\n"
     ]
    }
   ],
   "source": [
    "for i in pipeLegalCode:\n",
    "    print(rf\"https://infopost.enbridge.com/InfoPost/{i}Home.asp?pipe={i}\")"
   ]
  },
  {
   "cell_type": "code",
   "execution_count": null,
   "id": "de3ab872",
   "metadata": {},
   "outputs": [],
   "source": [
    "import polars as pl\n",
    "from pathlib import Path\n",
    "\n",
    "from pydantic import BaseModel\n",
    "from datetime import date, time"
   ]
  },
  {
   "cell_type": "code",
   "execution_count": 33,
   "id": "2ace22c6",
   "metadata": {},
   "outputs": [],
   "source": [
    "rootPath = Path(\"./../\").resolve()\n",
    "basePath = rootPath / \"src/enbridgescrape\"\n",
    "configsPath = basePath / \"configs\"\n",
    "downloadsPath = rootPath / \"downloads\""
   ]
  },
  {
   "cell_type": "code",
   "execution_count": 50,
   "id": "1bf0b388",
   "metadata": {},
   "outputs": [],
   "source": [
    "class dfSchema(BaseModel):\n",
    "    Cycle_Desc: str\n",
    "    Post_Date: date\n",
    "    Eff_Gas_Day: date\n",
    "    Cap_Type_Desc: str\n",
    "    Post_Time: time\n",
    "    Eff_Time: time\n",
    "    Loc: str\n",
    "    Loc_Name: str\n",
    "    Loc_Zn: str\n",
    "\n",
    "\n",
    "#  Flow_Ind_Desc\n",
    "#  Loc_Purp_Desc\n",
    "#  Loc_QTI_Desc\n",
    "#  Meas_Basis_Desc\n",
    "#  IT\n",
    "#  All_Qty_Avail\n",
    "#  Total_Design_Capacity\n",
    "#  Operating_Capacity\n",
    "#  Total_Scheduled_Quantity\n",
    "#  Operationally_Available_Capacity\n",
    "#  TSP_Name\n",
    "#  TSP"
   ]
  },
  {
   "cell_type": "code",
   "execution_count": null,
   "id": "ba61d954",
   "metadata": {},
   "outputs": [
    {
     "ename": "ImportError",
     "evalue": "cannot import name 'PolarsDataFrameValidator' from 'pandantic' (/home/sai/Documents/Coding/Python/enbridgeScrape/.venv/lib/python3.13/site-packages/pandantic/__init__.py)",
     "output_type": "error",
     "traceback": [
      "\u001b[31m---------------------------------------------------------------------------\u001b[39m",
      "\u001b[31mImportError\u001b[39m                               Traceback (most recent call last)",
      "\u001b[36mCell\u001b[39m\u001b[36m \u001b[39m\u001b[32mIn[51]\u001b[39m\u001b[32m, line 1\u001b[39m\n\u001b[32m----> \u001b[39m\u001b[32m1\u001b[39m \u001b[38;5;28;01mfrom\u001b[39;00m\u001b[38;5;250m \u001b[39m\u001b[34;01mpandantic\u001b[39;00m\u001b[38;5;250m \u001b[39m\u001b[38;5;28;01mimport\u001b[39;00m PolarsDataFrameValidator\n\u001b[32m      3\u001b[39m validator = PolarsDataFrameValidator(schema=dfSchema)\n",
      "\u001b[31mImportError\u001b[39m: cannot import name 'PolarsDataFrameValidator' from 'pandantic' (/home/sai/Documents/Coding/Python/enbridgeScrape/.venv/lib/python3.13/site-packages/pandantic/__init__.py)"
     ]
    }
   ],
   "source": [
    "from pandantic import PolarsDataFrameValidator\n",
    "\n",
    "validator = PolarsDataFrameValidator(schema=dfSchema)"
   ]
  },
  {
   "cell_type": "code",
   "execution_count": 38,
   "id": "52c6e195",
   "metadata": {},
   "outputs": [],
   "source": [
    "df = pl.read_csv(downloadsPath / \"OA/*.csv\")"
   ]
  },
  {
   "cell_type": "code",
   "execution_count": 47,
   "id": "5b01363e",
   "metadata": {},
   "outputs": [],
   "source": [
    "class dfScema(BaseModel):\n",
    "    Cycle_Desc: str\n",
    "    Post_Date: date\n",
    "    Eff_Gas_Day: date\n",
    "    Cap_Type_Desc: str\n",
    "    Post_Time: time\n",
    "    Eff_Time: time\n",
    "    Loc: str\n",
    "    Loc_Name: str\n",
    "    # Loc_Zn :\n",
    "    # Flow_Ind_Desc :\n",
    "    # Loc_Purp_Desc :\n",
    "    # Loc_QTI_Desc :\n",
    "    # Meas_Basis_Desc :\n",
    "    # IT :\n",
    "    # All_Qty_Avail :\n",
    "    # Total_Design_Capacity :\n",
    "    # Operating_Capacity :\n",
    "    # Total_Scheduled_Quantity :\n",
    "    # Operationally_Available_Capacity :\n",
    "    # TSP_Name :\n",
    "    # TSP"
   ]
  },
  {
   "cell_type": "code",
   "execution_count": null,
   "id": "fc8efcbe",
   "metadata": {},
   "outputs": [],
   "source": [
    "validator = Pandantic(schema=DataFrameSchema)"
   ]
  },
  {
   "cell_type": "code",
   "execution_count": 43,
   "id": "03ee685d",
   "metadata": {},
   "outputs": [
    {
     "data": {
      "text/html": [
       "<div><style>\n",
       ".dataframe > thead > tr,\n",
       ".dataframe > tbody > tr {\n",
       "  text-align: right;\n",
       "  white-space: pre-wrap;\n",
       "}\n",
       "</style>\n",
       "<small>shape: (5, 21)</small><table border=\"1\" class=\"dataframe\"><thead><tr><th>Cycle_Desc</th><th>Post_Date</th><th>Eff_Gas_Day</th><th>Cap_Type_Desc</th><th>Post_Time</th><th>Eff_Time</th><th>Loc</th><th>Loc_Name</th><th>Loc_Zn</th><th>Flow_Ind_Desc</th><th>Loc_Purp_Desc</th><th>Loc_QTI_Desc</th><th>Meas_Basis_Desc</th><th>IT</th><th>All_Qty_Avail</th><th>Total_Design_Capacity</th><th>Operating_Capacity</th><th>Total_Scheduled_Quantity</th><th>Operationally_Available_Capacity</th><th>TSP_Name</th><th>TSP</th></tr><tr><td>str</td><td>str</td><td>str</td><td>str</td><td>str</td><td>str</td><td>str</td><td>str</td><td>str</td><td>str</td><td>str</td><td>str</td><td>str</td><td>str</td><td>str</td><td>str</td><td>str</td><td>str</td><td>str</td><td>str</td><td>str</td></tr></thead><tbody><tr><td>&quot;INTRDY_2025-10-11_0900&quot;</td><td>&quot;10-11-2025&quot;</td><td>&quot;10-10-2025&quot;</td><td>&quot;Operational Capacity&quot;</td><td>&quot;09:00&quot;</td><td>&quot;09:00&quot;</td><td>&quot;00001&quot;</td><td>&quot;Partroy (MORRIS,NJ)&quot;</td><td>null</td><td>&quot;Delivery&quot;</td><td>&quot;Delivery Location&quot;</td><td>&quot;Delivery Point Quantity&quot;</td><td>&quot;MMBtu&quot;</td><td>&quot;N&quot;</td><td>&quot;Y&quot;</td><td>&quot;18,022&quot;</td><td>&quot;18,022&quot;</td><td>&quot;0&quot;</td><td>&quot;18,022&quot;</td><td>&quot;ALGONQUIN&quot;</td><td>&quot;006951446&quot;</td></tr><tr><td>&quot;INTRDY_2025-10-11_0900&quot;</td><td>&quot;10-11-2025&quot;</td><td>&quot;10-10-2025&quot;</td><td>&quot;Operational Capacity&quot;</td><td>&quot;09:00&quot;</td><td>&quot;09:00&quot;</td><td>&quot;00002&quot;</td><td>&quot;Waterbury (NEW HAVEN,CT)&quot;</td><td>null</td><td>&quot;Delivery&quot;</td><td>&quot;Delivery Location&quot;</td><td>&quot;Delivery Point Quantity&quot;</td><td>&quot;MMBtu&quot;</td><td>&quot;N&quot;</td><td>&quot;Y&quot;</td><td>&quot;208,442&quot;</td><td>&quot;216,006&quot;</td><td>&quot;1,979&quot;</td><td>&quot;214,027&quot;</td><td>&quot;ALGONQUIN&quot;</td><td>&quot;006951446&quot;</td></tr><tr><td>&quot;INTRDY_2025-10-11_0900&quot;</td><td>&quot;10-11-2025&quot;</td><td>&quot;10-10-2025&quot;</td><td>&quot;Operational Capacity&quot;</td><td>&quot;09:00&quot;</td><td>&quot;09:00&quot;</td><td>&quot;00003&quot;</td><td>&quot;North Haven (NEW HAVEN)&quot;</td><td>null</td><td>&quot;Delivery&quot;</td><td>&quot;Delivery Location&quot;</td><td>&quot;Delivery Point Quantity&quot;</td><td>&quot;MMBtu&quot;</td><td>&quot;N&quot;</td><td>&quot;Y&quot;</td><td>&quot;342,081&quot;</td><td>&quot;342,081&quot;</td><td>&quot;40,227&quot;</td><td>&quot;301,854&quot;</td><td>&quot;ALGONQUIN&quot;</td><td>&quot;006951446&quot;</td></tr><tr><td>&quot;INTRDY_2025-10-11_0900&quot;</td><td>&quot;10-11-2025&quot;</td><td>&quot;10-10-2025&quot;</td><td>&quot;Operational Capacity&quot;</td><td>&quot;09:00&quot;</td><td>&quot;09:00&quot;</td><td>&quot;00004&quot;</td><td>&quot;Rhode Island Energy -DEY ST. (…</td><td>null</td><td>&quot;Delivery&quot;</td><td>&quot;Delivery Location&quot;</td><td>&quot;Delivery Point Quantity&quot;</td><td>&quot;MMBtu&quot;</td><td>&quot;N&quot;</td><td>&quot;Y&quot;</td><td>&quot;157,437&quot;</td><td>&quot;157,437&quot;</td><td>&quot;15,440&quot;</td><td>&quot;141,997&quot;</td><td>&quot;ALGONQUIN&quot;</td><td>&quot;006951446&quot;</td></tr><tr><td>&quot;INTRDY_2025-10-11_0900&quot;</td><td>&quot;10-11-2025&quot;</td><td>&quot;10-10-2025&quot;</td><td>&quot;Operational Capacity&quot;</td><td>&quot;09:00&quot;</td><td>&quot;09:00&quot;</td><td>&quot;00005&quot;</td><td>&quot;Willimantic (NEW HAVEN, CT)&quot;</td><td>null</td><td>&quot;Delivery&quot;</td><td>&quot;Delivery Location&quot;</td><td>&quot;Delivery Point Quantity&quot;</td><td>&quot;MMBtu&quot;</td><td>&quot;N&quot;</td><td>&quot;Y&quot;</td><td>&quot;15,880&quot;</td><td>&quot;15,880&quot;</td><td>&quot;3,034&quot;</td><td>&quot;12,846&quot;</td><td>&quot;ALGONQUIN&quot;</td><td>&quot;006951446&quot;</td></tr></tbody></table></div>"
      ],
      "text/plain": [
       "shape: (5, 21)\n",
       "┌───────────┬───────────┬───────────┬───────────┬───┬───────────┬───────────┬───────────┬──────────┐\n",
       "│ Cycle_Des ┆ Post_Date ┆ Eff_Gas_D ┆ Cap_Type_ ┆ … ┆ Total_Sch ┆ Operation ┆ TSP_Name  ┆ TSP      │\n",
       "│ c         ┆ ---       ┆ ay        ┆ Desc      ┆   ┆ eduled_Qu ┆ ally_Avai ┆ ---       ┆ ---      │\n",
       "│ ---       ┆ str       ┆ ---       ┆ ---       ┆   ┆ antity    ┆ lable_Cap ┆ str       ┆ str      │\n",
       "│ str       ┆           ┆ str       ┆ str       ┆   ┆ ---       ┆ aci…      ┆           ┆          │\n",
       "│           ┆           ┆           ┆           ┆   ┆ str       ┆ ---       ┆           ┆          │\n",
       "│           ┆           ┆           ┆           ┆   ┆           ┆ str       ┆           ┆          │\n",
       "╞═══════════╪═══════════╪═══════════╪═══════════╪═══╪═══════════╪═══════════╪═══════════╪══════════╡\n",
       "│ INTRDY_20 ┆ 10-11-202 ┆ 10-10-202 ┆ Operation ┆ … ┆ 0         ┆ 18,022    ┆ ALGONQUIN ┆ 00695144 │\n",
       "│ 25-10-11_ ┆ 5         ┆ 5         ┆ al        ┆   ┆           ┆           ┆           ┆ 6        │\n",
       "│ 0900      ┆           ┆           ┆ Capacity  ┆   ┆           ┆           ┆           ┆          │\n",
       "│ INTRDY_20 ┆ 10-11-202 ┆ 10-10-202 ┆ Operation ┆ … ┆ 1,979     ┆ 214,027   ┆ ALGONQUIN ┆ 00695144 │\n",
       "│ 25-10-11_ ┆ 5         ┆ 5         ┆ al        ┆   ┆           ┆           ┆           ┆ 6        │\n",
       "│ 0900      ┆           ┆           ┆ Capacity  ┆   ┆           ┆           ┆           ┆          │\n",
       "│ INTRDY_20 ┆ 10-11-202 ┆ 10-10-202 ┆ Operation ┆ … ┆ 40,227    ┆ 301,854   ┆ ALGONQUIN ┆ 00695144 │\n",
       "│ 25-10-11_ ┆ 5         ┆ 5         ┆ al        ┆   ┆           ┆           ┆           ┆ 6        │\n",
       "│ 0900      ┆           ┆           ┆ Capacity  ┆   ┆           ┆           ┆           ┆          │\n",
       "│ INTRDY_20 ┆ 10-11-202 ┆ 10-10-202 ┆ Operation ┆ … ┆ 15,440    ┆ 141,997   ┆ ALGONQUIN ┆ 00695144 │\n",
       "│ 25-10-11_ ┆ 5         ┆ 5         ┆ al        ┆   ┆           ┆           ┆           ┆ 6        │\n",
       "│ 0900      ┆           ┆           ┆ Capacity  ┆   ┆           ┆           ┆           ┆          │\n",
       "│ INTRDY_20 ┆ 10-11-202 ┆ 10-10-202 ┆ Operation ┆ … ┆ 3,034     ┆ 12,846    ┆ ALGONQUIN ┆ 00695144 │\n",
       "│ 25-10-11_ ┆ 5         ┆ 5         ┆ al        ┆   ┆           ┆           ┆           ┆ 6        │\n",
       "│ 0900      ┆           ┆           ┆ Capacity  ┆   ┆           ┆           ┆           ┆          │\n",
       "└───────────┴───────────┴───────────┴───────────┴───┴───────────┴───────────┴───────────┴──────────┘"
      ]
     },
     "execution_count": 43,
     "metadata": {},
     "output_type": "execute_result"
    }
   ],
   "source": [
    "df.head(5)"
   ]
  },
  {
   "cell_type": "code",
   "execution_count": 48,
   "id": "bacb00dc",
   "metadata": {},
   "outputs": [
    {
     "data": {
      "text/plain": [
       "['Cycle_Desc',\n",
       " 'Post_Date',\n",
       " 'Eff_Gas_Day',\n",
       " 'Cap_Type_Desc',\n",
       " 'Post_Time',\n",
       " 'Eff_Time',\n",
       " 'Loc',\n",
       " 'Loc_Name',\n",
       " 'Loc_Zn',\n",
       " 'Flow_Ind_Desc',\n",
       " 'Loc_Purp_Desc',\n",
       " 'Loc_QTI_Desc',\n",
       " 'Meas_Basis_Desc',\n",
       " 'IT',\n",
       " 'All_Qty_Avail',\n",
       " 'Total_Design_Capacity',\n",
       " 'Operating_Capacity',\n",
       " 'Total_Scheduled_Quantity',\n",
       " 'Operationally_Available_Capacity',\n",
       " 'TSP_Name',\n",
       " 'TSP']"
      ]
     },
     "execution_count": 48,
     "metadata": {},
     "output_type": "execute_result"
    }
   ],
   "source": [
    "df.columns"
   ]
  },
  {
   "cell_type": "code",
   "execution_count": null,
   "id": "9e4b6af4",
   "metadata": {},
   "outputs": [],
   "source": []
  }
 ],
 "metadata": {
  "kernelspec": {
   "display_name": "enbridgescrape",
   "language": "python",
   "name": "python3"
  },
  "language_info": {
   "codemirror_mode": {
    "name": "ipython",
    "version": 3
   },
   "file_extension": ".py",
   "mimetype": "text/x-python",
   "name": "python",
   "nbconvert_exporter": "python",
   "pygments_lexer": "ipython3",
   "version": "3.13.7"
  }
 },
 "nbformat": 4,
 "nbformat_minor": 5
}
